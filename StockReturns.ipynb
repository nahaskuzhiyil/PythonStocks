{
 "cells": [
  {
   "cell_type": "code",
   "execution_count": 279,
   "metadata": {},
   "outputs": [],
   "source": [
    "import pandas as pd"
   ]
  },
  {
   "cell_type": "code",
   "execution_count": 280,
   "metadata": {},
   "outputs": [],
   "source": [
    "import numpy as np"
   ]
  },
  {
   "cell_type": "code",
   "execution_count": 281,
   "metadata": {},
   "outputs": [],
   "source": [
    "import yfinance as yf"
   ]
  },
  {
   "cell_type": "code",
   "execution_count": 282,
   "metadata": {},
   "outputs": [],
   "source": [
    "import matplotlib.pyplot as pyplot"
   ]
  },
  {
   "cell_type": "code",
   "execution_count": 283,
   "metadata": {},
   "outputs": [],
   "source": [
    "from datetime import datetime"
   ]
  },
  {
   "cell_type": "code",
   "execution_count": 284,
   "metadata": {},
   "outputs": [],
   "source": [
    "import seaborn as sns"
   ]
  },
  {
   "cell_type": "code",
   "execution_count": 285,
   "metadata": {},
   "outputs": [],
   "source": [
    "import scipy.stats"
   ]
  },
  {
   "cell_type": "code",
   "execution_count": 286,
   "metadata": {},
   "outputs": [],
   "source": [
    "class Readstock:\n",
    "    #data =[]\n",
    "    stockname=''\n",
    "    def __init__(self,stockname):\n",
    "        self.stockname=stockname\n",
    "    def Getdatayf(self):\n",
    "        self.stockname= self.stockname.upper()\n",
    "        data = yf.download(self.stockname)\n",
    "        #data = data.reset_index()\n",
    "        # Rename old index from '' to Date\n",
    "        #data.rename(columns = {'':'Date'}, inplace = True)\n",
    "        print(f'{self.stockname}')\n",
    "        return data\n",
    "    def MACDalgo(self,data) :\n",
    "        data['MACD']=data['Close'].ewm(span=12).mean()-data['Close'].ewm(span=26).mean()\n",
    "        data['MA9'] = data[\"MACD\"].ewm(span=9).mean()\n",
    "        data['MACDyesterday']=data['MACD'].shift(1)\n",
    "        data['MA9yesterday']=data['MA9'].shift(1)\n",
    "        #def conditionUp = if Value[1] < Avg[1] and Value > Avg then 1 \n",
    "        UpMask = ((data['MACDyesterday'] < data['MA9yesterday']) & (data['MACD']>data['MA9']))\n",
    "        data.loc[UpMask, 'Signal'] = \"Buy\"\n",
    "        #def conditionDown = if Value[1] > Avg[1] and Value < Avg then 1 \n",
    "        DownMask = ((data['MACDyesterday'] > data['MA9yesterday']) & (data['MACD']<data['MA9']))\n",
    "        data.loc[DownMask, 'Signal'] = \"Sell\"\n",
    "        return data\n",
    "    def BackTest(self,data):\n",
    "        Startdate = '2022-01-01';\n",
    "        Startdate = datetime.strptime(Startdate,\"%Y-%d-%m\")\n",
    "        #Closedate = pd.datetime.now().strftime(\"%Y-%d-%m\")\n",
    "        print(f'{Startdate}')\n",
    "        #mask = (data['Date'] > Startdate) & (data['Date'] <= Closedate)\n",
    "        data = data.loc[Startdate:,:]\n",
    "        data = data.dropna(subset=['Signal'],axis=0)\n",
    "        data['Profit']= data['Adj Close']- data['Adj Close'].shift(1)\n",
    "        return data\n",
    "    def Profitcal(self,data):\n",
    "        data = data.loc[data['Signal']==\"Sell\",:]\n",
    "        data = data.dropna(subset=['Profit'],axis=0)\n",
    "        return data\n",
    "\n",
    "    \n",
    "        \n",
    "        "
   ]
  },
  {
   "cell_type": "code",
   "execution_count": 287,
   "metadata": {},
   "outputs": [
    {
     "name": "stdout",
     "output_type": "stream",
     "text": [
      "Enter stock tickeraapl\n",
      "[*********************100%***********************]  1 of 1 completed\n",
      "AAPL\n",
      "2022-01-01 00:00:00\n",
      "                  Open        High         Low       Close   Adj Close  \\\n",
      "Date                                                                     \n",
      "2022-02-01  174.009995  174.839996  172.309998  174.610001  173.890427   \n",
      "2022-02-17  171.029999  171.910004  168.470001  168.880005  168.398331   \n",
      "2022-03-18  160.509995  164.479996  159.759995  163.979996  163.512283   \n",
      "2022-04-08  171.779999  171.779999  169.199997  170.089996  169.604874   \n",
      "2022-05-27  145.389999  149.679993  145.259995  149.639999  149.432434   \n",
      "2022-06-13  132.869995  135.199997  131.440002  131.880005  131.697067   \n",
      "2022-06-23  136.820007  138.589996  135.630005  138.270004  138.078201   \n",
      "2022-08-22  169.690002  169.860001  167.139999  167.570007  167.570007   \n",
      "2022-10-17  141.070007  142.899994  140.270004  142.410004  142.410004   \n",
      "\n",
      "               Volume      MACD       MA9  MACDyesterday  MA9yesterday Signal  \\\n",
      "Date                                                                            \n",
      "2022-02-01   86213900 -0.824460 -1.299950      -1.524073     -1.418823    Buy   \n",
      "2022-02-17   69589300  0.275950  0.363085       0.528202      0.384868   Sell   \n",
      "2022-03-18  123511700 -2.496487 -2.841793      -3.090654     -2.928119    Buy   \n",
      "2022-04-08   76575500  2.270284  2.424630       2.692011      2.463217   Sell   \n",
      "2022-05-27   90978500 -5.037248 -5.659996      -5.898346     -5.815683    Buy   \n",
      "2022-06-13  122207100 -3.779681 -3.288622      -2.953137     -3.165858   Sell   \n",
      "2022-06-23   72433800 -4.310890 -4.403599      -4.753417     -4.426776    Buy   \n",
      "2022-08-22   69026800  5.559403  5.895177       6.170308      5.979121   Sell   \n",
      "2022-10-17   85250900 -4.163425 -4.235210      -4.478989     -4.253156    Buy   \n",
      "\n",
      "               Profit  \n",
      "Date                   \n",
      "2022-02-01        NaN  \n",
      "2022-02-17  -5.492096  \n",
      "2022-03-18  -4.886047  \n",
      "2022-04-08   6.092590  \n",
      "2022-05-27 -20.172440  \n",
      "2022-06-13 -17.735367  \n",
      "2022-06-23   6.381134  \n",
      "2022-08-22  29.491806  \n",
      "2022-10-17 -25.160004  \n",
      "                  Open        High         Low       Close   Adj Close  \\\n",
      "Date                                                                     \n",
      "2022-02-17  171.029999  171.910004  168.470001  168.880005  168.398331   \n",
      "2022-04-08  171.779999  171.779999  169.199997  170.089996  169.604874   \n",
      "2022-06-13  132.869995  135.199997  131.440002  131.880005  131.697067   \n",
      "2022-08-22  169.690002  169.860001  167.139999  167.570007  167.570007   \n",
      "\n",
      "               Volume      MACD       MA9  MACDyesterday  MA9yesterday Signal  \\\n",
      "Date                                                                            \n",
      "2022-02-17   69589300  0.275950  0.363085       0.528202      0.384868   Sell   \n",
      "2022-04-08   76575500  2.270284  2.424630       2.692011      2.463217   Sell   \n",
      "2022-06-13  122207100 -3.779681 -3.288622      -2.953137     -3.165858   Sell   \n",
      "2022-08-22   69026800  5.559403  5.895177       6.170308      5.979121   Sell   \n",
      "\n",
      "               Profit  \n",
      "Date                   \n",
      "2022-02-17  -5.492096  \n",
      "2022-04-08   6.092590  \n",
      "2022-06-13 -17.735367  \n",
      "2022-08-22  29.491806  \n",
      "12.35693359375\n"
     ]
    }
   ],
   "source": [
    "mystock = input (\"Enter stock ticker\")\n",
    "stock=Readstock(mystock)\n",
    "data1 = stock.Getdatayf()\n",
    "data2 = stock.MACDalgo(data1)\n",
    "data3 = stock.BackTest(data2)\n",
    "print(data3)\n",
    "data4 = stock.Profitcal(data3)\n",
    "print(data4)\n",
    "print(sum(data4['Profit']))\n",
    "\n"
   ]
  },
  {
   "cell_type": "code",
   "execution_count": 288,
   "metadata": {},
   "outputs": [
    {
     "data": {
      "text/plain": [
       "<Figure size 576x360 with 0 Axes>"
      ]
     },
     "execution_count": 288,
     "metadata": {},
     "output_type": "execute_result"
    },
    {
     "data": {
      "text/plain": [
       "<Figure size 576x360 with 0 Axes>"
      ]
     },
     "metadata": {},
     "output_type": "display_data"
    }
   ],
   "source": [
    "pyplot.figure(figsize=(8,5))"
   ]
  },
  {
   "cell_type": "code",
   "execution_count": 289,
   "metadata": {},
   "outputs": [
    {
     "data": {
      "text/plain": [
       "[<matplotlib.lines.Line2D at 0x1a2caaada0>]"
      ]
     },
     "execution_count": 289,
     "metadata": {},
     "output_type": "execute_result"
    },
    {
     "data": {
      "image/png": "[encoded data removed]",
      "text/plain": [
       "<Figure size 432x288 with 1 Axes>"
      ]
     },
     "metadata": {},
     "output_type": "display_data"
    }
   ],
   "source": [
    "pyplot.plot(data4['MACD'],color='green')\n",
    "pyplot.plot(data4['MA9'],color='red')"
   ]
  },
  {
   "cell_type": "code",
   "execution_count": 290,
   "metadata": {},
   "outputs": [],
   "source": [
    "ploty.show()"
   ]
  },
  {
   "cell_type": "code",
   "execution_count": 291,
   "metadata": {},
   "outputs": [
    {
     "data": {
      "text/html": [
       "<div>\n",
       "<style scoped>\n",
       "    .dataframe tbody tr th:only-of-type {\n",
       "        vertical-align: middle;\n",
       "    }\n",
       "\n",
       "    .dataframe tbody tr th {\n",
       "        vertical-align: top;\n",
       "    }\n",
       "\n",
       "    .dataframe thead tr th {\n",
       "        text-align: left;\n",
       "    }\n",
       "</style>\n",
       "<table border=\"1\" class=\"dataframe\">\n",
       "  <thead>\n",
       "    <tr>\n",
       "      <th></th>\n",
       "      <th>Signal</th>\n",
       "      <th colspan=\"4\" halign=\"left\">Profit</th>\n",
       "    </tr>\n",
       "    <tr>\n",
       "      <th></th>\n",
       "      <th></th>\n",
       "      <th>sum</th>\n",
       "      <th>mean</th>\n",
       "      <th>std</th>\n",
       "      <th>var</th>\n",
       "    </tr>\n",
       "  </thead>\n",
       "  <tbody>\n",
       "    <tr>\n",
       "      <th>0</th>\n",
       "      <td>Buy</td>\n",
       "      <td>-43.837357</td>\n",
       "      <td>-10.959339</td>\n",
       "      <td>14.423557</td>\n",
       "      <td>208.038992</td>\n",
       "    </tr>\n",
       "    <tr>\n",
       "      <th>1</th>\n",
       "      <td>Sell</td>\n",
       "      <td>12.356934</td>\n",
       "      <td>3.089233</td>\n",
       "      <td>20.111516</td>\n",
       "      <td>404.473061</td>\n",
       "    </tr>\n",
       "  </tbody>\n",
       "</table>\n",
       "</div>"
      ],
      "text/plain": [
       "  Signal     Profit                                  \n",
       "                sum       mean        std         var\n",
       "0    Buy -43.837357 -10.959339  14.423557  208.038992\n",
       "1   Sell  12.356934   3.089233  20.111516  404.473061"
      ]
     },
     "execution_count": 291,
     "metadata": {},
     "output_type": "execute_result"
    }
   ],
   "source": [
    "data3.groupby('Signal').agg({'Profit':['sum', 'mean','std', 'var']}).reset_index()"
   ]
  },
  {
   "cell_type": "code",
   "execution_count": 292,
   "metadata": {},
   "outputs": [
    {
     "data": {
      "text/html": [
       "<div>\n",
       "<style scoped>\n",
       "    .dataframe tbody tr th:only-of-type {\n",
       "        vertical-align: middle;\n",
       "    }\n",
       "\n",
       "    .dataframe tbody tr th {\n",
       "        vertical-align: top;\n",
       "    }\n",
       "\n",
       "    .dataframe thead tr th {\n",
       "        text-align: left;\n",
       "    }\n",
       "</style>\n",
       "<table border=\"1\" class=\"dataframe\">\n",
       "  <thead>\n",
       "    <tr>\n",
       "      <th></th>\n",
       "      <th>Signal</th>\n",
       "      <th colspan=\"3\" halign=\"left\">Profit</th>\n",
       "    </tr>\n",
       "    <tr>\n",
       "      <th></th>\n",
       "      <th></th>\n",
       "      <th>mean</th>\n",
       "      <th>std</th>\n",
       "      <th>var</th>\n",
       "    </tr>\n",
       "  </thead>\n",
       "  <tbody>\n",
       "    <tr>\n",
       "      <th>0</th>\n",
       "      <td>Sell</td>\n",
       "      <td>3.089233</td>\n",
       "      <td>20.111516</td>\n",
       "      <td>404.473061</td>\n",
       "    </tr>\n",
       "  </tbody>\n",
       "</table>\n",
       "</div>"
      ],
      "text/plain": [
       "  Signal    Profit                       \n",
       "              mean        std         var\n",
       "0   Sell  3.089233  20.111516  404.473061"
      ]
     },
     "execution_count": 292,
     "metadata": {},
     "output_type": "execute_result"
    }
   ],
   "source": [
    "data3[data3.Signal==\"Sell\"].groupby('Signal').agg({'Profit':['mean', 'std', 'var']}).reset_index()"
   ]
  },
  {
   "cell_type": "code",
   "execution_count": 293,
   "metadata": {},
   "outputs": [],
   "source": [
    "Profitmean = data4['Profit'].mean()"
   ]
  },
  {
   "cell_type": "code",
   "execution_count": 294,
   "metadata": {},
   "outputs": [],
   "source": [
    "Profitstd = data4['Profit'].std()"
   ]
  },
  {
   "cell_type": "code",
   "execution_count": 304,
   "metadata": {},
   "outputs": [
    {
     "data": {
      "text/plain": [
       "<matplotlib.axes._subplots.AxesSubplot at 0x1a2d0ef198>"
      ]
     },
     "execution_count": 304,
     "metadata": {},
     "output_type": "execute_result"
    },
    {
     "data": {
      "image/png": "[encoded data removed]",
      "text/plain": [
       "<Figure size 432x288 with 1 Axes>"
      ]
     },
     "metadata": {},
     "output_type": "display_data"
    }
   ],
   "source": [
    "sns.set_style('darkgrid')\n",
    "sns.distplot(data4['Profit'])"
   ]
  },
  {
   "cell_type": "code",
   "execution_count": 296,
   "metadata": {},
   "outputs": [
    {
     "name": "stdout",
     "output_type": "stream",
     "text": [
      "0.5610394820677507\n"
     ]
    }
   ],
   "source": [
    "prob_less_0 = scipy.stats.norm.cdf((0 - Profitmean)/Profitstd)\n",
    "print(1 - prob_less_0)"
   ]
  },
  {
   "cell_type": "code",
   "execution_count": null,
   "metadata": {},
   "outputs": [],
   "source": []
  },
  {
   "cell_type": "code",
   "execution_count": null,
   "metadata": {},
   "outputs": [],
   "source": []
  },
  {
   "cell_type": "code",
   "execution_count": 297,
   "metadata": {},
   "outputs": [
    {
     "data": {
      "text/plain": [
       "'dozen'"
      ]
     },
     "execution_count": 297,
     "metadata": {},
     "output_type": "execute_result"
    }
   ],
   "source": [
    "s = pd.Series([12,'dozen'],index=['a','b'])\n",
    "s['b']"
   ]
  },
  {
   "cell_type": "code",
   "execution_count": 298,
   "metadata": {},
   "outputs": [
    {
     "data": {
      "text/plain": [
       "'dozen'"
      ]
     },
     "execution_count": 298,
     "metadata": {},
     "output_type": "execute_result"
    }
   ],
   "source": [
    "s.b"
   ]
  },
  {
   "cell_type": "code",
   "execution_count": 299,
   "metadata": {},
   "outputs": [],
   "source": [
    "mydataframe = pd.DataFrame({'Name':['qwe','asd','zxc'],'Subject':['phy','chem','bio']})"
   ]
  },
  {
   "cell_type": "code",
   "execution_count": 300,
   "metadata": {},
   "outputs": [
    {
     "data": {
      "text/plain": [
       "(3, 2)"
      ]
     },
     "execution_count": 300,
     "metadata": {},
     "output_type": "execute_result"
    }
   ],
   "source": [
    "mydataframe.shape"
   ]
  },
  {
   "cell_type": "code",
   "execution_count": 301,
   "metadata": {},
   "outputs": [
    {
     "data": {
      "text/plain": [
       "array([['qwe', 'phy'],\n",
       "       ['asd', 'chem'],\n",
       "       ['zxc', 'bio']], dtype=object)"
      ]
     },
     "execution_count": 301,
     "metadata": {},
     "output_type": "execute_result"
    }
   ],
   "source": [
    "mydataframe.values"
   ]
  },
  {
   "cell_type": "code",
   "execution_count": 302,
   "metadata": {},
   "outputs": [
    {
     "data": {
      "text/plain": [
       "Index(['Name', 'Subject'], dtype='object')"
      ]
     },
     "execution_count": 302,
     "metadata": {},
     "output_type": "execute_result"
    }
   ],
   "source": [
    "mydataframe.columns"
   ]
  },
  {
   "cell_type": "code",
   "execution_count": 303,
   "metadata": {},
   "outputs": [
    {
     "data": {
      "text/plain": [
       "Name       object\n",
       "Subject    object\n",
       "dtype: object"
      ]
     },
     "execution_count": 303,
     "metadata": {},
     "output_type": "execute_result"
    }
   ],
   "source": [
    "mydataframe.dtypes"
   ]
  },
  {
   "cell_type": "code",
   "execution_count": null,
   "metadata": {},
   "outputs": [],
   "source": []
  }
 ],
 "metadata": {
  "kernelspec": {
   "display_name": "Python [conda env:root] *",
   "language": "python",
   "name": "conda-root-py"
  },
  "language_info": {
   "codemirror_mode": {
    "name": "ipython",
    "version": 3
   },
   "file_extension": ".py",
   "mimetype": "text/x-python",
   "name": "python",
   "nbconvert_exporter": "python",
   "pygments_lexer": "ipython3",
   "version": "3.6.10"
  }
 },
 "nbformat": 4,
 "nbformat_minor": 4
}
